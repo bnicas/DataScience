{
 "cells": [
  {
   "cell_type": "markdown",
   "metadata": {},
   "source": [
    "<center>\n",
    "    <img src=\"https://cf-courses-data.s3.us.cloud-object-storage.appdomain.cloud/IBMDeveloperSkillsNetwork-DS0105EN-SkillsNetwork/labs/Module2/images/SN_web_lightmode.png\" width=\"300\" alt=\"cognitiveclass.ai logo\">\n",
    "</center>\n"
   ]
  },
  {
   "cell_type": "markdown",
   "metadata": {},
   "source": [
    "#### Add your code below following the instructions given in the course\n"
   ]
  },
  {
   "cell_type": "markdown",
   "metadata": {},
   "source": [
    "# Data Science Tools"
   ]
  },
  {
   "cell_type": "markdown",
   "metadata": {
    "tags": []
   },
   "source": [
    "## Introduction"
   ]
  },
  {
   "cell_type": "markdown",
   "metadata": {},
   "source": [
    "The most important languages, libraries and tools are listed below."
   ]
  },
  {
   "cell_type": "markdown",
   "metadata": {},
   "source": [
    "#### List of Data Science Languages:\n",
    "1. Python\n",
    "2. SQL\n",
    "3. R\n",
    "5. Julia\n",
    "6. Scala\n",
    "7. Java\n",
    "8. C/C++\n",
    "9. Javascript"
   ]
  },
  {
   "cell_type": "markdown",
   "metadata": {},
   "source": [
    "#### List of Data Science libraries:\n",
    "1. Python\n",
    "    - Pandas\n",
    "    - NumPy\n",
    "    - Matplot\n",
    "    - Seaborn\n",
    "    - Scikit-learn\n",
    "    - Keres\n",
    "    - TensorFlow\n",
    "    - PyTorch\n",
    "    - Apache Spark\n",
    "\n",
    "2. Scala\n",
    "    - Vegas\n",
    "    - BigDL\n",
    "\n",
    "3. R\n",
    "    - GGplot\n",
    "    - caret\n",
    "    - stringr\n",
    "    - dplyr"
   ]
  },
  {
   "cell_type": "markdown",
   "metadata": {},
   "source": [
    "#### List of Data Science tools: \n",
    "\n",
    "    1. Data Management\n",
    "        - MySQL\n",
    "        - PostgreSQL\n",
    "        - mangoDB\n",
    "        - couchDB\n",
    "        - cassandra\n",
    "        - hadoopHDFS\n",
    "    2. Data Integration and Transformation\n",
    "        - Airflow\n",
    "        - kubeflow\n",
    "        - kafka\n",
    "        - nifi\n",
    "        - spark\n",
    "        - node\n",
    "    3. Data Vizualization\n",
    "        - PixieDust\n",
    "        - HUE\n",
    "        - Kibena\n",
    "        - Superset\n",
    "    4. Model Deployment\n",
    "        - PredictionIO\n",
    "        - Seldon\n",
    "        - mleap\n",
    "        - tensorflow\n",
    "    5. Model Monitoring\n",
    "        - ModelDB\n",
    "        - Prometheus\n",
    "        - IBM Air Fairness 360\n",
    "        - Advisarial Robust 360\n",
    "        - AI Explainability 360\n",
    "    6. Code Asset Management\n",
    "        - git\n",
    "        - github\n",
    "        - gitlab\n",
    "        - bitbucket\n",
    "    7. Data Asset Management\n",
    "        -Apache Atlas\n",
    "        - Egeria\n",
    "        - Kylo\n",
    "    8. Development Enviroments\n",
    "        - Jupyter Notebook\n",
    "        - Jupyter Lab\n",
    "        - Apache Zeppelin\n",
    "        - R Studio\n",
    "        - Spyder\n",
    "        - Apache Spark Flink\n",
    "        - Ray\n",
    "    9. Programming Free\n",
    "        - Knime\n",
    "        - orange\n",
    "    10. Cloud Data Management\n",
    "        - Amazon DynamoDB\n",
    "        - IBM DB2\n",
    "        - Cloudent\n",
    "    11. ELT, ETL\n",
    "        - informatica\n",
    "        - IBM Data Refinery\n",
    "    12. Data Vizualization\n",
    "        - Datamer\n",
    "        -IBM Cognos Analytics\n",
    "    13. Model Buliding\n",
    "        - Google Cloud\n",
    "        - IBM Watson\n",
    "        "
   ]
  },
  {
   "cell_type": "markdown",
   "metadata": {},
   "source": [
    "#### Arithmetic Expression\n",
    "\n",
    "- a + x # Addition.\n",
    "- a - x # Subtraction.\n",
    "- a * x # Multiplication.\n",
    "- a / x # Division.\n",
    "- a % x # Modulo: The remainder of a / x.\n",
    "- a ** x # Exponent: a to the power of x or a ^ x.\n",
    "- a // x # Floor division: Rounds down result of a / x.\n"
   ]
  },
  {
   "cell_type": "code",
   "execution_count": 2,
   "metadata": {
    "tags": []
   },
   "outputs": [
    {
     "name": "stdout",
     "output_type": "stream",
     "text": [
      "5\n",
      "6\n"
     ]
    }
   ],
   "source": [
    "a = 2\n",
    "b = 3\n",
    "print (a+b)\n",
    "print (a*b)"
   ]
  },
  {
   "cell_type": "code",
   "execution_count": 4,
   "metadata": {
    "tags": []
   },
   "outputs": [
    {
     "name": "stdout",
     "output_type": "stream",
     "text": [
      "2.5\n"
     ]
    }
   ],
   "source": [
    "def minutes_to_hours (minutes):\n",
    "    return minutes / 60\n",
    "\n",
    "minutes = 150\n",
    "hours = minutes_to_hours(minutes)\n",
    "print (hours)"
   ]
  },
  {
   "cell_type": "markdown",
   "metadata": {},
   "source": [
    "#### Objectives\n",
    " To learn about Data Science Tools"
   ]
  },
  {
   "cell_type": "markdown",
   "metadata": {},
   "source": [
    "##### Author: \n",
    "    Brigitta Nicas"
   ]
  },
  {
   "cell_type": "code",
   "execution_count": null,
   "metadata": {},
   "outputs": [],
   "source": []
  }
 ],
 "metadata": {
  "kernelspec": {
   "display_name": "Python",
   "language": "python",
   "name": "conda-env-python-py"
  },
  "language_info": {
   "codemirror_mode": {
    "name": "ipython",
    "version": 3
   },
   "file_extension": ".py",
   "mimetype": "text/x-python",
   "name": "python",
   "nbconvert_exporter": "python",
   "pygments_lexer": "ipython3",
   "version": "3.7.12"
  }
 },
 "nbformat": 4,
 "nbformat_minor": 4
}
